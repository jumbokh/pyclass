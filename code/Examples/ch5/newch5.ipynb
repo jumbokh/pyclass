{
  "nbformat": 4,
  "nbformat_minor": 0,
  "metadata": {
    "kernelspec": {
      "display_name": "Python 3",
      "language": "python",
      "name": "python3"
    },
    "language_info": {
      "codemirror_mode": {
        "name": "ipython",
        "version": 3
      },
      "file_extension": ".py",
      "mimetype": "text/x-python",
      "name": "python",
      "nbconvert_exporter": "python",
      "pygments_lexer": "ipython3",
      "version": "3.6.0"
    },
    "colab": {
      "name": "ch5.ipynb",
      "provenance": []
    }
  },
  "cells": [
    {
      "cell_type": "code",
      "metadata": {
        "id": "L0Jh7ZE1u5iN",
        "colab_type": "code",
        "colab": {
          "base_uri": "https://localhost:8080/",
          "height": 148
        },
        "outputId": "855f6150-7773-40ef-fabe-e79f37f571a7"
      },
      "source": [
        "import math\n",
        "help(math.sqrt)"
      ],
      "execution_count": 4,
      "outputs": [
        {
          "output_type": "stream",
          "text": [
            "Help on built-in function sqrt in module math:\n",
            "\n",
            "sqrt(...)\n",
            "    sqrt(x)\n",
            "    \n",
            "    Return the square root of x.\n",
            "\n"
          ],
          "name": "stdout"
        }
      ]
    },
    {
      "cell_type": "code",
      "metadata": {
        "id": "gQX6ch62DBtJ",
        "colab_type": "code",
        "colab": {
          "base_uri": "https://localhost:8080/",
          "height": 55
        },
        "outputId": "16cffd8b-4d56-4d97-da59-050c6b8b7ebb"
      },
      "source": [
        "#E_5_1 功能: 輸入一個數值，判斷若小於50則開根號乘以10\n",
        "import math\n",
        "num=int(input('請輸入任一數'))\n",
        "Tt=num\n",
        "if num<50:\n",
        "    Tt=math.sqrt(num)*10\n",
        "print(num,Tt)\n"
      ],
      "execution_count": 7,
      "outputs": [
        {
          "output_type": "stream",
          "text": [
            "請輸入任一數36\n",
            "36 60.0\n"
          ],
          "name": "stdout"
        }
      ]
    },
    {
      "cell_type": "code",
      "metadata": {
        "id": "ugQncWRADBtQ",
        "colab_type": "code",
        "colab": {}
      },
      "source": [
        "#E_5_2 功能: 輸入一個數值，判斷若小於50則開根號乘以10，否則加10。\n",
        "import math\n",
        "num=int(input('請輸入數據1-100: '))\n",
        "if num<50:\n",
        "    total=math.sqrt(num)*10\n",
        "else: \n",
        "    total=num+10    \n",
        "print('total=%d' % round(total))"
      ],
      "execution_count": null,
      "outputs": []
    },
    {
      "cell_type": "code",
      "metadata": {
        "id": "6-67umqbDBtU",
        "colab_type": "code",
        "colab": {},
        "outputId": "f9c04f38-5863-4a1d-e96b-88836899656b"
      },
      "source": [
        "#E_5_3 功能: 成績分等級\n",
        "score=int(input('輸入成績0-100分: '))\n",
        "grade='輸入'\n",
        "if score<60:  #條件1\n",
        "    grade='戊等'\n",
        "elif score <70:  #條件2\n",
        "    grade='丁等'\n",
        "elif score<80:  #條件3\n",
        "    grade='丙等'    \n",
        "elif score<90:  #條件4\n",
        "    grade='乙等'\n",
        "elif score<=100:  #條件5\n",
        "    grade='甲等'\n",
        "else:    #條件6\n",
        "    grade='輸入錯誤'\n",
        "print (score,grade) "
      ],
      "execution_count": null,
      "outputs": [
        {
          "output_type": "stream",
          "text": [
            "輸入成績0-100分: 101\n",
            "101 輸入錯誤\n"
          ],
          "name": "stdout"
        }
      ]
    },
    {
      "cell_type": "code",
      "metadata": {
        "id": "UO5V25dFZ4G3",
        "colab_type": "code",
        "colab": {
          "base_uri": "https://localhost:8080/",
          "height": 55
        },
        "outputId": "2a6cf988-0ae3-4ac7-fae3-a7c327fd4b8e"
      },
      "source": [
        "#E_5_3 功能: 成績分等級\n",
        "score=int(input('輸入成績0-100分: '))\n",
        "grade='輸入'\n",
        "if score>90:  #條件1\n",
        "    grade='戊等'\n",
        "elif score >80:  #條件2\n",
        "    grade='丁等'\n",
        "elif score>70:  #條件3\n",
        "    grade='丙等'    \n",
        "elif score>60:  #條件4\n",
        "    grade='乙等'\n",
        "elif score>0:  #條件5\n",
        "    grade='甲等'\n",
        "else:    #條件6\n",
        "    grade='輸入錯誤'\n",
        "print (score,grade) "
      ],
      "execution_count": 8,
      "outputs": [
        {
          "output_type": "stream",
          "text": [
            "輸入成績0-100分: 75\n",
            "75 丙等\n"
          ],
          "name": "stdout"
        }
      ]
    },
    {
      "cell_type": "code",
      "metadata": {
        "id": "7Q9Ztrx4DBtY",
        "colab_type": "code",
        "colab": {
          "base_uri": "https://localhost:8080/",
          "height": 73
        },
        "outputId": "c97917b1-fa6c-413c-c322-54c79e71c9d1"
      },
      "source": [
        "#E_5_4 功能: 猜數字遊戲\n",
        "num=int(input('請輸入0-30的數值: '))\n",
        "sex=input('請輸入性別: 1. 男  2. 女: ')\n",
        "nmax=30   #設定最大值\n",
        "nmin=0   #設定最小值\n",
        "bingo=18  #答案\n",
        "diff=0   #計算差額\n",
        "if num==bingo:  #條件1\n",
        "    if sex=='1':\n",
        "        print('帥哥，你猜對了，真棒!')\n",
        "    else:\n",
        "        print('美女，妳猜對了，了不起')\n",
        "elif (num < bingo) & (num>=nmin):  #條件2\n",
        "    diff=abs(num-bingo)\n",
        "    if diff<3:\n",
        "        print('你猜的數字比較小，已經接近了')\n",
        "    else:\n",
        "        print('你猜的數字比較小，還差很多')\n",
        "elif (num> bingo) & (num<=nmax):  #條件3\n",
        "    diff=num-bingo\n",
        "    if diff<3:\n",
        "        print('你猜的數字比較大，已經接近了')\n",
        "    else:\n",
        "        print('你猜的數字比較大，還差很多')\n",
        "else:  #條件4\n",
        "    if num<0 or num>30:\n",
        "        print('輸入超過數值範圍')"
      ],
      "execution_count": 10,
      "outputs": [
        {
          "output_type": "stream",
          "text": [
            "請輸入0-30的數值: 16\n",
            "請輸入性別: 1. 男  2. 女: 2\n",
            "你猜的數字比較小，已經接近了\n"
          ],
          "name": "stdout"
        }
      ]
    },
    {
      "cell_type": "code",
      "metadata": {
        "id": "DvzRhJspDBtc",
        "colab_type": "code",
        "colab": {},
        "outputId": "1da119a1-8431-4eb9-f949-588fab5eed8d"
      },
      "source": [
        "#E_5_4 功能: 迴圈依序印出序列的值\n",
        "for i in range(0, 10, 2):\n",
        "    print(i)\n"
      ],
      "execution_count": null,
      "outputs": [
        {
          "output_type": "stream",
          "text": [
            "0\n",
            "2\n",
            "4\n",
            "6\n",
            "8\n"
          ],
          "name": "stdout"
        }
      ]
    },
    {
      "cell_type": "code",
      "metadata": {
        "id": "zfjN2Q4aDBtf",
        "colab_type": "code",
        "colab": {},
        "outputId": "8958c998-31b3-4ac9-d0ac-7a23313e797b"
      },
      "source": [
        "#E_5_6 功能: 計算1累加到5的總和\n",
        "sumi=0\n",
        "n=5\n",
        "for i in range(1,n+1):\n",
        "    sumi=sumi+i\n",
        "    print(sumi)\n",
        "print('sumi =',sumi)"
      ],
      "execution_count": null,
      "outputs": [
        {
          "output_type": "stream",
          "text": [
            "1\n",
            "3\n",
            "6\n",
            "10\n",
            "15\n",
            "sumi = 15\n"
          ],
          "name": "stdout"
        }
      ]
    },
    {
      "cell_type": "code",
      "metadata": {
        "id": "RAt6DRIofu6g",
        "colab_type": "code",
        "colab": {
          "base_uri": "https://localhost:8080/",
          "height": 111
        },
        "outputId": "93f83838-f4be-4b7a-84e4-b83e71567ff5"
      },
      "source": [
        "help(divmod)"
      ],
      "execution_count": 13,
      "outputs": [
        {
          "output_type": "stream",
          "text": [
            "Help on built-in function divmod in module builtins:\n",
            "\n",
            "divmod(x, y, /)\n",
            "    Return the tuple (x//y, x%y).  Invariant: div*y + mod == x.\n",
            "\n"
          ],
          "name": "stdout"
        }
      ]
    },
    {
      "cell_type": "code",
      "metadata": {
        "id": "Si3yZTowDBtj",
        "colab_type": "code",
        "colab": {
          "base_uri": "https://localhost:8080/",
          "height": 73
        },
        "outputId": "b88b1dd6-07f7-430f-b9d1-9e6d87adb5a3"
      },
      "source": [
        "#E_5_7 功能: 找出1～100能被7整除的因數、個數與總和。\n",
        "count=0  #累加1到100能被7整除的個數\n",
        "lis0=[]  #記錄1到100能被7整除的因子\n",
        "sumi=0   #累加1到100能被7整除的因子總合為\n",
        "for i in range(1,101):\n",
        "    (quotient, remainder)=divmod(i,7) \n",
        "    if remainder==0:\n",
        "        count=count+1\n",
        "        sumi=sumi+i\n",
        "        lis0.append(i)\n",
        "print('1到100能被7整數的因子=',lis0)        \n",
        "print('1到100能被7整數的個數=',count)\n",
        "print('1到100能被7整數的因子總合為=',sumi)\n"
      ],
      "execution_count": 12,
      "outputs": [
        {
          "output_type": "stream",
          "text": [
            "1到100能被7整數的因子= [7, 14, 21, 28, 35, 42, 49, 56, 63, 70, 77, 84, 91, 98]\n",
            "1到100能被7整數的個數= 14\n",
            "1到100能被7整數的因子總合為= 735\n"
          ],
          "name": "stdout"
        }
      ]
    },
    {
      "cell_type": "code",
      "metadata": {
        "id": "czdmM7IGDBtn",
        "colab_type": "code",
        "colab": {},
        "outputId": "d75a88b8-f1d8-46bf-eb07-f4afc80ae46c"
      },
      "source": [
        "#E_5_8 功能: 計算1-(1/n)的函數。\n",
        "n=int(input('Please input n : '))\n",
        "result=0\n",
        "for i in range(2,n+1,1):\n",
        "    result=result+(1-(1/i))\n",
        "print('%s %.2f' %('The result is ', result))"
      ],
      "execution_count": null,
      "outputs": [
        {
          "output_type": "stream",
          "text": [
            "Please input n : 10\n",
            "The result is  7.07\n"
          ],
          "name": "stdout"
        }
      ]
    },
    {
      "cell_type": "code",
      "metadata": {
        "id": "s9lDKqABDBtp",
        "colab_type": "code",
        "colab": {
          "base_uri": "https://localhost:8080/",
          "height": 353
        },
        "outputId": "3d4a45fb-1169-4acd-e199-90fe0324c207"
      },
      "source": [
        "# E_5_9 功能: 以雙迴圈(9列，9行)產生亂數(0到9)模擬二維陣列\n",
        "import random as rd\n",
        "lis=list(range(1,10))\n",
        "for i in range(1, 10):  #外圈\n",
        "    for j in range(1, 10):  #內圈\n",
        "        num=rd.randint(0,9)  \n",
        "        print('%3d'%(num), end='')\n",
        "        lis.append(num)\n",
        "    print('\\n')"
      ],
      "execution_count": 21,
      "outputs": [
        {
          "output_type": "stream",
          "text": [
            "  9  4  7  9  0  7  0  6  8\n",
            "\n",
            "  5  6  6  5  1  4  8  9  3\n",
            "\n",
            "  3  1  4  0  6  7  9  5  8\n",
            "\n",
            "  3  3  6  3  3  6  2  9  5\n",
            "\n",
            "  1  5  6  4  6  4  4  2  7\n",
            "\n",
            "  0  5  2  6  8  5  4  1  5\n",
            "\n",
            "  4  6  4  2  9  3  4  1  9\n",
            "\n",
            "  9  7  7  6  8  5  6  9  2\n",
            "\n",
            "  4  6  7  2  6  4  8  3  9\n",
            "\n"
          ],
          "name": "stdout"
        }
      ]
    },
    {
      "cell_type": "code",
      "metadata": {
        "id": "zZEBX458kajk",
        "colab_type": "code",
        "colab": {
          "base_uri": "https://localhost:8080/",
          "height": 56
        },
        "outputId": "5dafb63a-db78-4edb-9528-8f8c44ef43f9"
      },
      "source": [
        "print(lis)"
      ],
      "execution_count": 22,
      "outputs": [
        {
          "output_type": "stream",
          "text": [
            "[1, 2, 3, 4, 5, 6, 7, 8, 9, 9, 4, 7, 9, 0, 7, 0, 6, 8, 5, 6, 6, 5, 1, 4, 8, 9, 3, 3, 1, 4, 0, 6, 7, 9, 5, 8, 3, 3, 6, 3, 3, 6, 2, 9, 5, 1, 5, 6, 4, 6, 4, 4, 2, 7, 0, 5, 2, 6, 8, 5, 4, 1, 5, 4, 6, 4, 2, 9, 3, 4, 1, 9, 9, 7, 7, 6, 8, 5, 6, 9, 2, 4, 6, 7, 2, 6, 4, 8, 3, 9]\n"
          ],
          "name": "stdout"
        }
      ]
    },
    {
      "cell_type": "code",
      "metadata": {
        "id": "Lu1SD_BwDBtr",
        "colab_type": "code",
        "colab": {
          "base_uri": "https://localhost:8080/",
          "height": 185
        },
        "outputId": "b4808d82-c5b9-4619-f1bc-f3fff553e3b9"
      },
      "source": [
        "# E_5_10 功能: 以巢狀迴圈產生9*9乘法表\n",
        "for i in range(1, 10):  #外圈\n",
        "    for j in range(1, 10):  #內圈\n",
        "        #print('%d*%d=%2d  '%(i,j,i*j), end='')\n",
        "        print('%d*%d=%2d '%(i,j,i*j),end='')    \n",
        "    print()"
      ],
      "execution_count": 23,
      "outputs": [
        {
          "output_type": "stream",
          "text": [
            "1*1= 1 1*2= 2 1*3= 3 1*4= 4 1*5= 5 1*6= 6 1*7= 7 1*8= 8 1*9= 9 \n",
            "2*1= 2 2*2= 4 2*3= 6 2*4= 8 2*5=10 2*6=12 2*7=14 2*8=16 2*9=18 \n",
            "3*1= 3 3*2= 6 3*3= 9 3*4=12 3*5=15 3*6=18 3*7=21 3*8=24 3*9=27 \n",
            "4*1= 4 4*2= 8 4*3=12 4*4=16 4*5=20 4*6=24 4*7=28 4*8=32 4*9=36 \n",
            "5*1= 5 5*2=10 5*3=15 5*4=20 5*5=25 5*6=30 5*7=35 5*8=40 5*9=45 \n",
            "6*1= 6 6*2=12 6*3=18 6*4=24 6*5=30 6*6=36 6*7=42 6*8=48 6*9=54 \n",
            "7*1= 7 7*2=14 7*3=21 7*4=28 7*5=35 7*6=42 7*7=49 7*8=56 7*9=63 \n",
            "8*1= 8 8*2=16 8*3=24 8*4=32 8*5=40 8*6=48 8*7=56 8*8=64 8*9=72 \n",
            "9*1= 9 9*2=18 9*3=27 9*4=36 9*5=45 9*6=54 9*7=63 9*8=72 9*9=81 \n"
          ],
          "name": "stdout"
        }
      ]
    },
    {
      "cell_type": "code",
      "metadata": {
        "id": "vC5fdYLMDBtu",
        "colab_type": "code",
        "colab": {},
        "outputId": "ebc1c10b-7717-468c-f05f-799dbf80951e"
      },
      "source": [
        "# E_5_11 功能:重覆產生亂數(0至9的整數)直到產生的值是零時結束。\n",
        "import random as rd\n",
        "num=rd.randint(0,9) \n",
        "count=1\n",
        "while num!=0:\n",
        "    print(num)\n",
        "    num=rd.randint(0,9) \n",
        "    count+=1\n",
        "print(num)\n",
        "print('%s%d%s' %('共產生亂數',count,'次'))   "
      ],
      "execution_count": null,
      "outputs": [
        {
          "output_type": "stream",
          "text": [
            "1\n",
            "4\n",
            "3\n",
            "6\n",
            "0\n",
            "共產生亂數5次\n"
          ],
          "name": "stdout"
        }
      ]
    },
    {
      "cell_type": "code",
      "metadata": {
        "id": "q0V0JtarpVVm",
        "colab_type": "code",
        "colab": {
          "base_uri": "https://localhost:8080/",
          "height": 223
        },
        "outputId": "f8c9765b-9a3c-4592-8064-a9f39be551cb"
      },
      "source": [
        "# E_5_11 功能:重覆產生亂數(0至9的整數)直到產生的值是零時結束。\n",
        "import random as rd\n",
        "num=-1\n",
        "count=0\n",
        "while num!=0:\n",
        "    num=rd.randint(0,9)\n",
        "    print(num)\n",
        "    count+=1\n",
        "print('共產生亂數%d次' %count)   "
      ],
      "execution_count": 38,
      "outputs": [
        {
          "output_type": "stream",
          "text": [
            "5\n",
            "5\n",
            "9\n",
            "2\n",
            "4\n",
            "5\n",
            "4\n",
            "8\n",
            "4\n",
            "0\n",
            "共產生亂數10次\n"
          ],
          "name": "stdout"
        }
      ]
    },
    {
      "cell_type": "code",
      "metadata": {
        "id": "qbvm0-_im45D",
        "colab_type": "code",
        "colab": {
          "base_uri": "https://localhost:8080/",
          "height": 36
        },
        "outputId": "f58afda9-b395-4852-fe76-3ffe2ea82916"
      },
      "source": [
        "import random as rd\n",
        "count=0\n",
        "while rd.randint(0,9)!=0:\n",
        "  # how to keep random number?\n",
        "  count=count+1\n",
        "print(count)"
      ],
      "execution_count": 27,
      "outputs": [
        {
          "output_type": "stream",
          "text": [
            "39\n"
          ],
          "name": "stdout"
        }
      ]
    },
    {
      "cell_type": "code",
      "metadata": {
        "id": "37Jb6eeIDBtx",
        "colab_type": "code",
        "colab": {
          "base_uri": "https://localhost:8080/",
          "height": 316
        },
        "outputId": "ec8b73b3-b69c-4a7a-87b4-afa8e426d5f4"
      },
      "source": [
        "# E_5_12 功能:以while迴圈產生9*9乘法表結合break 與continue。\n",
        "i=1\n",
        "j=1\n",
        "while i<=9: #外圈\n",
        "    if i==4:\n",
        "        i+=1\n",
        "        continue\n",
        "    while j<=9:  #內圈\n",
        "        if j==7:\n",
        "            break\n",
        "        print('%d*%d=%2d  '%(i,j,i*j), end='')\n",
        "        j+=1\n",
        "    j=1\n",
        "    i+=1\n",
        "    print('\\n')    "
      ],
      "execution_count": 39,
      "outputs": [
        {
          "output_type": "stream",
          "text": [
            "1*1= 1  1*2= 2  1*3= 3  1*4= 4  1*5= 5  1*6= 6  \n",
            "\n",
            "2*1= 2  2*2= 4  2*3= 6  2*4= 8  2*5=10  2*6=12  \n",
            "\n",
            "3*1= 3  3*2= 6  3*3= 9  3*4=12  3*5=15  3*6=18  \n",
            "\n",
            "5*1= 5  5*2=10  5*3=15  5*4=20  5*5=25  5*6=30  \n",
            "\n",
            "6*1= 6  6*2=12  6*3=18  6*4=24  6*5=30  6*6=36  \n",
            "\n",
            "7*1= 7  7*2=14  7*3=21  7*4=28  7*5=35  7*6=42  \n",
            "\n",
            "8*1= 8  8*2=16  8*3=24  8*4=32  8*5=40  8*6=48  \n",
            "\n",
            "9*1= 9  9*2=18  9*3=27  9*4=36  9*5=45  9*6=54  \n",
            "\n"
          ],
          "name": "stdout"
        }
      ]
    },
    {
      "cell_type": "code",
      "metadata": {
        "id": "0zbFHcPLu8MI",
        "colab_type": "code",
        "colab": {}
      },
      "source": [
        "%matplotlib inline\n",
        "import numpy as np\n",
        "import pandas as pd\n",
        "import matplotlib.pyplot as plt\n"
      ],
      "execution_count": 40,
      "outputs": []
    },
    {
      "cell_type": "code",
      "metadata": {
        "id": "AZwB0Yeu0bcr",
        "colab_type": "code",
        "colab": {
          "base_uri": "https://localhost:8080/",
          "height": 204
        },
        "outputId": "c5c71cf9-e0ae-4d49-99f5-8a3a5327a49f"
      },
      "source": [
        "while True:\n",
        "  # 選擇： 1.男性 2. 女性 3. 結束\n",
        "  print('\\n')\n",
        "  n=int(input('請選擇： 1.男性 2. 女性 3. 結束:'))\n",
        "  if n==3:\n",
        "    break\n",
        "  H = float(input('身高：'))\n",
        "  W = float(input('體重：'))\n",
        "  BMI = W/(H/100)**2.\n",
        "  print('BMI:%f'%(BMI))\n",
        "  x = input('Waiting..')\n"
      ],
      "execution_count": 50,
      "outputs": [
        {
          "output_type": "stream",
          "text": [
            "\n",
            "\n",
            "請選擇： 1.男性 2. 女性 3. 結束:1\n",
            "身高：180\n",
            "體重：74\n",
            "BMI:22.839506\n",
            "Waiting..\n",
            "\n",
            "\n",
            "請選擇： 1.男性 2. 女性 3. 結束:3\n"
          ],
          "name": "stdout"
        }
      ]
    },
    {
      "cell_type": "code",
      "metadata": {
        "id": "hUNYfMSovd5h",
        "colab_type": "code",
        "colab": {
          "base_uri": "https://localhost:8080/",
          "height": 168
        },
        "outputId": "73ce3b2f-ee94-48b6-ecc3-05d94f0e2d7a"
      },
      "source": [
        "%lsmagic"
      ],
      "execution_count": 41,
      "outputs": [
        {
          "output_type": "execute_result",
          "data": {
            "application/json": {
              "cell": {
                "prun": "ExecutionMagics",
                "file": "Other",
                "!": "OSMagics",
                "capture": "ExecutionMagics",
                "timeit": "ExecutionMagics",
                "script": "ScriptMagics",
                "pypy": "Other",
                "system": "OSMagics",
                "perl": "Other",
                "html": "DisplayMagics",
                "bash": "Other",
                "shell": "Other",
                "HTML": "Other",
                "python": "Other",
                "SVG": "Other",
                "javascript": "DisplayMagics",
                "bigquery": "Other",
                "js": "DisplayMagics",
                "writefile": "OSMagics",
                "ruby": "Other",
                "python3": "Other",
                "python2": "Other",
                "latex": "DisplayMagics",
                "sx": "OSMagics",
                "svg": "DisplayMagics",
                "sh": "Other",
                "time": "ExecutionMagics",
                "debug": "ExecutionMagics"
              },
              "line": {
                "psource": "NamespaceMagics",
                "logstart": "LoggingMagics",
                "popd": "OSMagics",
                "tensorflow_version": "Other",
                "loadpy": "CodeMagics",
                "colors": "BasicMagics",
                "who_ls": "NamespaceMagics",
                "lf": "Other",
                "ll": "Other",
                "pprint": "BasicMagics",
                "lk": "Other",
                "ls": "Other",
                "save": "CodeMagics",
                "tb": "ExecutionMagics",
                "lx": "Other",
                "pylab": "PylabMagics",
                "killbgscripts": "ScriptMagics",
                "quickref": "BasicMagics",
                "magic": "BasicMagics",
                "dhist": "OSMagics",
                "edit": "KernelMagics",
                "logstop": "LoggingMagics",
                "gui": "BasicMagics",
                "prun": "ExecutionMagics",
                "debug": "ExecutionMagics",
                "page": "BasicMagics",
                "logstate": "LoggingMagics",
                "ed": "Other",
                "pushd": "OSMagics",
                "timeit": "ExecutionMagics",
                "set_env": "OSMagics",
                "rehashx": "OSMagics",
                "hist": "Other",
                "qtconsole": "KernelMagics",
                "rm": "Other",
                "dirs": "OSMagics",
                "run": "ExecutionMagics",
                "reset_selective": "NamespaceMagics",
                "pinfo2": "NamespaceMagics",
                "matplotlib": "PylabMagics",
                "unload_ext": "ExtensionMagics",
                "doctest_mode": "BasicMagics",
                "logoff": "LoggingMagics",
                "reload_ext": "ExtensionMagics",
                "pdb": "ExecutionMagics",
                "load": "CodeMagics",
                "lsmagic": "BasicMagics",
                "autosave": "KernelMagics",
                "cd": "OSMagics",
                "pastebin": "CodeMagics",
                "alias_magic": "BasicMagics",
                "cp": "Other",
                "autocall": "AutoMagics",
                "ldir": "Other",
                "bookmark": "OSMagics",
                "connect_info": "KernelMagics",
                "mkdir": "Other",
                "system": "OSMagics",
                "whos": "NamespaceMagics",
                "rmdir": "Other",
                "automagic": "AutoMagics",
                "store": "StoreMagics",
                "more": "KernelMagics",
                "shell": "Other",
                "pdef": "NamespaceMagics",
                "precision": "BasicMagics",
                "pinfo": "NamespaceMagics",
                "pwd": "OSMagics",
                "psearch": "NamespaceMagics",
                "reset": "NamespaceMagics",
                "recall": "HistoryMagics",
                "xdel": "NamespaceMagics",
                "xmode": "BasicMagics",
                "cat": "Other",
                "mv": "Other",
                "rerun": "HistoryMagics",
                "logon": "LoggingMagics",
                "history": "HistoryMagics",
                "pycat": "OSMagics",
                "pip": "Other",
                "unalias": "OSMagics",
                "env": "OSMagics",
                "load_ext": "ExtensionMagics",
                "config": "ConfigMagics",
                "profile": "BasicMagics",
                "pfile": "NamespaceMagics",
                "less": "KernelMagics",
                "who": "NamespaceMagics",
                "notebook": "BasicMagics",
                "man": "KernelMagics",
                "sx": "OSMagics",
                "macro": "ExecutionMagics",
                "clear": "KernelMagics",
                "alias": "OSMagics",
                "time": "ExecutionMagics",
                "sc": "OSMagics",
                "rep": "Other",
                "pdoc": "NamespaceMagics"
              }
            },
            "text/plain": [
              "Available line magics:\n",
              "%alias  %alias_magic  %autocall  %automagic  %autosave  %bookmark  %cat  %cd  %clear  %colors  %config  %connect_info  %cp  %debug  %dhist  %dirs  %doctest_mode  %ed  %edit  %env  %gui  %hist  %history  %killbgscripts  %ldir  %less  %lf  %lk  %ll  %load  %load_ext  %loadpy  %logoff  %logon  %logstart  %logstate  %logstop  %ls  %lsmagic  %lx  %macro  %magic  %man  %matplotlib  %mkdir  %more  %mv  %notebook  %page  %pastebin  %pdb  %pdef  %pdoc  %pfile  %pinfo  %pinfo2  %pip  %popd  %pprint  %precision  %profile  %prun  %psearch  %psource  %pushd  %pwd  %pycat  %pylab  %qtconsole  %quickref  %recall  %rehashx  %reload_ext  %rep  %rerun  %reset  %reset_selective  %rm  %rmdir  %run  %save  %sc  %set_env  %shell  %store  %sx  %system  %tb  %tensorflow_version  %time  %timeit  %unalias  %unload_ext  %who  %who_ls  %whos  %xdel  %xmode\n",
              "\n",
              "Available cell magics:\n",
              "%%!  %%HTML  %%SVG  %%bash  %%bigquery  %%capture  %%debug  %%file  %%html  %%javascript  %%js  %%latex  %%perl  %%prun  %%pypy  %%python  %%python2  %%python3  %%ruby  %%script  %%sh  %%shell  %%svg  %%sx  %%system  %%time  %%timeit  %%writefile\n",
              "\n",
              "Automagic is ON, % prefix IS NOT needed for line magics."
            ]
          },
          "metadata": {
            "tags": []
          },
          "execution_count": 41
        }
      ]
    },
    {
      "cell_type": "code",
      "metadata": {
        "id": "yJffJiPxDBt1",
        "colab_type": "code",
        "colab": {},
        "outputId": "5921fb26-1e0e-4d7d-b516-c22ca76d7615"
      },
      "source": [
        "# E_5_13 功能: range函數採先放大再縮小產生浮點數。\n",
        "for i in range(0, 3):\n",
        "    i=i/10\n",
        "    print(i)\n"
      ],
      "execution_count": null,
      "outputs": [
        {
          "output_type": "stream",
          "text": [
            "0.0\n",
            "0.1\n",
            "0.2\n"
          ],
          "name": "stdout"
        }
      ]
    },
    {
      "cell_type": "code",
      "metadata": {
        "id": "qtD8ICXjDBt3",
        "colab_type": "code",
        "colab": {},
        "outputId": "747aeb13-bb3f-4be3-cc9e-d74c1459553d"
      },
      "source": [
        "# E_5_14 功能: 使用arange函數產生浮點數。\n",
        "import numpy as np\n",
        "for i in np.arange(0, 0.3, 0.1):\n",
        "    print(i)\n"
      ],
      "execution_count": null,
      "outputs": [
        {
          "output_type": "stream",
          "text": [
            "0.0\n",
            "0.1\n",
            "0.2\n"
          ],
          "name": "stdout"
        }
      ]
    },
    {
      "cell_type": "code",
      "metadata": {
        "id": "cfZ2HXw4DBt6",
        "colab_type": "code",
        "colab": {},
        "outputId": "e40ee64a-c8d2-46fc-aa56-ccf212e73a7e"
      },
      "source": [
        "# E_5_15 功能: 積分計算面積。\n",
        "dx=1\n",
        "area=0\n",
        "y=0\n",
        "for x in range(200,500,dx):\n",
        "    x=x/100\n",
        "    y=(x**2)+1\n",
        "    area=area+(y*(dx/100))\n",
        "print('area = ', area)  "
      ],
      "execution_count": null,
      "outputs": [
        {
          "output_type": "stream",
          "text": [
            "area =  41.89504999999999\n"
          ],
          "name": "stdout"
        }
      ]
    },
    {
      "cell_type": "code",
      "metadata": {
        "id": "2gsgE9oiDBt8",
        "colab_type": "code",
        "colab": {},
        "outputId": "1c323384-6055-4bdb-fc4e-0bd034144d61"
      },
      "source": [
        "# E_5_15_2 功能: 積分計算面積(1)。\n",
        "import numpy as np\n",
        "dx=float(input('Please input dx =' ))\n",
        "area=0\n",
        "y=0\n",
        "for x in np.arange(2, 5, dx):\n",
        "    y=(x**2)+1\n",
        "    area=area+(y*dx)\n",
        "print('area = ', area)"
      ],
      "execution_count": null,
      "outputs": [
        {
          "output_type": "stream",
          "text": [
            "Please input dx =0.00001\n",
            "area =  41.9998950003\n"
          ],
          "name": "stdout"
        }
      ]
    },
    {
      "cell_type": "code",
      "metadata": {
        "id": "RjX0Y9hYDBt-",
        "colab_type": "code",
        "colab": {},
        "outputId": "0d986ad5-0dfb-49b0-8511-0c3c42c0de92"
      },
      "source": [
        "# E_5_16 功能: 排列組合。\n",
        "m=int(input('輸入 m= '))\n",
        "n=int(input('輸入 n= '))\n",
        "prodi=1 #計算m!\n",
        "prodj=1 #計算n!\n",
        "prodk=1 #計算m-n!\n",
        "for i in range(m,1,-1):\n",
        "    prodi=prodi*i\n",
        "for j in range(n,1,-1):\n",
        "    prodj=prodj*j  \n",
        "k=m-n    \n",
        "for k in range(k,1,-1):\n",
        "    prodk=prodk*k\n",
        "number=prodi/(prodj*prodk)\n",
        "print('%s %d %s' %('排列組合共有', number, '方法')) "
      ],
      "execution_count": null,
      "outputs": [
        {
          "output_type": "stream",
          "text": [
            "輸入 m= 10\n",
            "輸入 n= 7\n",
            "排列組合共有 120 方法\n"
          ],
          "name": "stdout"
        }
      ]
    },
    {
      "cell_type": "code",
      "metadata": {
        "id": "u6WivTkADBuA",
        "colab_type": "code",
        "colab": {},
        "outputId": "e9fdaaae-a74c-49ac-c732-0a904efa811d"
      },
      "source": [
        "# RC_5_1 功能: 。\n",
        "data=input('請輸入華氏溫度： ')\n",
        "if data.isdigit():\n",
        "    Fahrenheit=int(data)\n",
        "    Celsius=(5/9)*(Fahrenheit-32)\n",
        "    print('攝氏溫度為', round(Celsius,1))\n",
        "else:\n",
        "    print('請輸入數值資料')"
      ],
      "execution_count": null,
      "outputs": [
        {
          "output_type": "stream",
          "text": [
            "請輸入華氏溫度： abc\n",
            "請輸入數值資料\n"
          ],
          "name": "stdout"
        }
      ]
    },
    {
      "cell_type": "code",
      "metadata": {
        "id": "kxq3uoBjDBuD",
        "colab_type": "code",
        "colab": {},
        "outputId": "2eb1957c-253d-456e-dd54-261285e0026b"
      },
      "source": [
        "# RC_5_2 功能: 景氣對策信號。\n",
        "score=int(input('請輸入景氣對策信號綜合分數 = '))\n",
        "if score>=45 or score<9:\n",
        "    print('錯誤')\n",
        "elif score>=37:    \n",
        "    print('紅燈')\n",
        "elif score>=31:\n",
        "    print('黃紅燈')\n",
        "elif score>=22:\n",
        "    print('綠燈')\n",
        "elif score>=16:\n",
        "    print('黃藍燈')\n",
        "elif score>=9:\n",
        "    print('藍燈')"
      ],
      "execution_count": null,
      "outputs": [
        {
          "output_type": "stream",
          "text": [
            "請輸入景氣對策信號綜合分數 = 19\n",
            "黃藍燈\n"
          ],
          "name": "stdout"
        }
      ]
    },
    {
      "cell_type": "code",
      "metadata": {
        "id": "YjM4DxQ4DBuF",
        "colab_type": "code",
        "colab": {},
        "outputId": "c1b29bfa-f6c1-464b-e620-db85b2ad0388"
      },
      "source": [
        "# RC_5_3 功能: 簡化版個人綜合所得稅試算。\n",
        "level1=520000*0.05\n",
        "level2=(1170000-520000)*0.12\n",
        "level3=(2350000-1170000)*0.2\n",
        "level4=(4400000-2350000)*0.3\n",
        "level5=(10000000-4400000)*0.4\n",
        "income=int(input('請輸入淨年所得額: '))\n",
        "if income<=520000: #條件1\n",
        "    tax=income*0.05\n",
        "elif income<=1170000: #條件2\n",
        "    tax=level1+((income-520000)*0.12)\n",
        "elif income<= 2350000: #條件3\n",
        "    tax=level1+level2+((income-1170000)*0.2)\n",
        "elif income<=4400000: #條件4\n",
        "    tax=level1+level2+level3+((income-2350000)*0.3)\n",
        "elif income<=10000000: #條件5\n",
        "    tax=level1+level2+level3+level4+((income-4400000)*0.4)\n",
        "else: #條件6\n",
        "    tax=level1+level2+level3+level4+level5+((income-10000000)*0.45)    \n",
        "print('應繳稅額 = ', tax)"
      ],
      "execution_count": null,
      "outputs": [
        {
          "output_type": "stream",
          "text": [
            "請輸入淨年所得額: 11000000\n",
            "應繳稅額 =  3645000.0\n"
          ],
          "name": "stdout"
        }
      ]
    },
    {
      "cell_type": "code",
      "metadata": {
        "id": "M5PthLHqDBuH",
        "colab_type": "code",
        "colab": {},
        "outputId": "4b5e049a-6cff-4aa5-f996-5349b56495de"
      },
      "source": [
        "# RC_5_4_1 功能: 敘述統計。\n",
        "import math\n",
        "sample=[5,8,9,6,4,1,5,3,6,2]\n",
        "n=len(sample)\n",
        "mean=sum(sample)/n\n",
        "sumi=0\n",
        "for i in range(0, n):\n",
        "    sumi=sumi+((sample[i]-mean)**2)\n",
        "var=sumi/(n-1)    \n",
        "std=math.sqrt(var)\n",
        "print('sample = ', sample)\n",
        "print('mean = ', mean)\n",
        "print('max = ', max(sample))\n",
        "print('min = ', min(sample))\n",
        "print('variance = ', round(var,2))\n",
        "print('standard deviation = ', round(std,2))"
      ],
      "execution_count": null,
      "outputs": [
        {
          "output_type": "stream",
          "text": [
            "sample =  [5, 8, 9, 6, 4, 1, 5, 3, 6, 2]\n",
            "mean =  4.9\n",
            "max =  9\n",
            "min =  1\n",
            "variance =  6.32\n",
            "standard deviation =  2.51\n"
          ],
          "name": "stdout"
        }
      ]
    },
    {
      "cell_type": "code",
      "metadata": {
        "id": "sSizRqolDBuK",
        "colab_type": "code",
        "colab": {},
        "outputId": "b73bc069-64be-45d2-94ac-bf3a41700cbc"
      },
      "source": [
        "# RC_5_4_2 功能: 敘述統計。\n",
        "import statistics as st\n",
        "sample=[5,8,9,6,4,1,5,3,6,2]\n",
        "print('sample = ', sample)\n",
        "print('mean = ',  st.mean(sample))\n",
        "print('max = ',  max(sample))\n",
        "print('min = ',  min(sample))\n",
        "print('variance = ', round(st.variance(sample),2))\n",
        "print('standard deviation = ',  round(st.stdev(sample),2))"
      ],
      "execution_count": null,
      "outputs": [
        {
          "output_type": "stream",
          "text": [
            "sample =  [5, 8, 9, 6, 4, 1, 5, 3, 6, 2]\n",
            "mean =  4.9\n",
            "max =  9\n",
            "min =  1\n",
            "variance =  6.32\n",
            "standard deviation =  2.51\n"
          ],
          "name": "stdout"
        }
      ]
    },
    {
      "cell_type": "code",
      "metadata": {
        "id": "tc7LreNjDBuL",
        "colab_type": "code",
        "colab": {},
        "outputId": "6bde05dc-17e5-4487-9b03-e973f8ed389b"
      },
      "source": [
        "# RC_5_5 功能: 找零錢。\n",
        "count = 0\n",
        "for x in range(6):\n",
        "    for y in range(11):\n",
        "        for z in range(51):\n",
        "            if 10*x+5*y+z == 50:\n",
        "                count = count + 1\n",
        "print('%s %d %s' %('共有', count, '種換法'))"
      ],
      "execution_count": null,
      "outputs": [
        {
          "output_type": "stream",
          "text": [
            "共有 36 種換法\n"
          ],
          "name": "stdout"
        }
      ]
    },
    {
      "cell_type": "code",
      "metadata": {
        "id": "IhtZCXx1DBuO",
        "colab_type": "code",
        "colab": {},
        "outputId": "38de560b-0e59-49a5-fb11-b346b07929fa"
      },
      "source": [
        "# RC_5_6 功能: 儲存人生的第一桶金。\n",
        "mpv=10000  #月存金額\n",
        "ypv=120000  #年存金額\n",
        "r=0.02  #年利率\n",
        "target=1000000  #目標存款\n",
        "#月複利\n",
        "mfv=0  #月複利累計金額\n",
        "n=0  #期數\n",
        "while mfv<target:\n",
        "    mfv=(mpv+mfv)*(1+r/12) \n",
        "    n=n+1\n",
        "print('%s %.2f %s %.2f %s' %('月存1萬,約', n/12, '年可以存到', mfv, '元'))\n",
        "#年複利\n",
        "yfv=0 #年複利累計金額\n",
        "n=0\n",
        "while yfv<target:\n",
        "    yfv=(ypv+yfv)*(1+r)\n",
        "    n=n+1\n",
        "print('%s %.2f %s %.2f %s' %('年存12萬,約', n, '年可以存到', yfv, '元'))"
      ],
      "execution_count": null,
      "outputs": [
        {
          "output_type": "stream",
          "text": [
            "月存1萬,約 7.75 年可以存到 1006718.97 元\n",
            "年存12萬,約 8.00 年可以存到 1050555.41 元\n"
          ],
          "name": "stdout"
        }
      ]
    },
    {
      "cell_type": "code",
      "metadata": {
        "id": "idUBU8miDBuQ",
        "colab_type": "code",
        "colab": {},
        "outputId": "e65280cd-d438-4049-c42d-f20b041c5f83"
      },
      "source": [
        "# RC_5_7 功能: 身分證號碼檢查。\n",
        "data=input('請輸入身份證字號 = ')\n",
        "id=data.upper()\n",
        "a1_dic={'A': '10', 'B': '11', 'C': '12', 'D': '13', 'E': '14', 'F': '15', \\\n",
        "'G': '16', 'H': '17', 'J': '18', 'K': '19', 'L': '20', 'M': '21',\\\n",
        "'N': '22', 'P': '23', 'Q': '24', 'R': '25', 'S': '26', 'T': '27', 'U': '28',\\\n",
        "'V': '29', 'X': '30', 'Y': '31', 'W': '32', 'Z': '33'}\n",
        "N=len(id)\n",
        "if (id.isalnum()) & (N==10) & (id[0].isalpha()) & (id[1:N].isdigit()):\n",
        "    A=id[0]\n",
        "    a1_value=a1_dic.get(A)\n",
        "    X1=int(a1_value[0])\n",
        "    X2=int(a1_value[1])\n",
        "    w=1\n",
        "    sumn=0\n",
        "    for k in range(N-2, 0, -1):\n",
        "        sumn=sumn+(int(id[w])*k)\n",
        "        w+=1\n",
        "        print('sumn ', sumn)        \n",
        "    Y=X1+(X2*9)+sumn+int(id[w])\n",
        "    print('Y = ', Y)\n",
        "    [quotient, remainder]=divmod(Y,10)\n",
        "    if remainder==0:\n",
        "        print('身份証號碼規則驗證正確')\n",
        "    else:\n",
        "        print('身份証號碼規則驗證「不」正確')\n",
        "else: \n",
        "    print('請輸入第1個字元為英文字母，9個阿拉伯數字')   "
      ],
      "execution_count": null,
      "outputs": [
        {
          "output_type": "stream",
          "text": [
            "請輸入身份證字號 = H124077814\n",
            "sumn  8\n",
            "sumn  22\n",
            "sumn  46\n",
            "sumn  46\n",
            "sumn  74\n",
            "sumn  95\n",
            "sumn  111\n",
            "sumn  112\n",
            "Y =  180\n",
            "身份証號碼規則驗證正確\n"
          ],
          "name": "stdout"
        }
      ]
    },
    {
      "cell_type": "code",
      "metadata": {
        "id": "3m5FzNB-DBuT",
        "colab_type": "code",
        "colab": {}
      },
      "source": [
        ""
      ],
      "execution_count": null,
      "outputs": []
    }
  ]
}