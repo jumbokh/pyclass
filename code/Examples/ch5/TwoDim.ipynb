{
  "nbformat": 4,
  "nbformat_minor": 0,
  "metadata": {
    "colab": {
      "name": "TwoDim.ipynb",
      "provenance": [],
      "collapsed_sections": []
    },
    "kernelspec": {
      "name": "python3",
      "display_name": "Python 3"
    }
  },
  "cells": [
    {
      "cell_type": "code",
      "metadata": {
        "id": "BTZ19PnPfzEd",
        "colab_type": "code",
        "colab": {}
      },
      "source": [
        "import random\n",
        "score=[[0]*40 for i in range(5)]\n",
        "for i in range(5):\n",
        "   for j in range(40):\n",
        "      score[i][j]=random.randint(40,100)"
      ],
      "execution_count": 1,
      "outputs": []
    },
    {
      "cell_type": "code",
      "metadata": {
        "id": "TnHR2s_6gIZ-",
        "colab_type": "code",
        "colab": {
          "base_uri": "https://localhost:8080/",
          "height": 35
        },
        "outputId": "1afd7e92-a6e4-4587-8a4f-dce4179ea388"
      },
      "source": [
        "len(score)"
      ],
      "execution_count": 2,
      "outputs": [
        {
          "output_type": "execute_result",
          "data": {
            "text/plain": [
              "5"
            ]
          },
          "metadata": {
            "tags": []
          },
          "execution_count": 2
        }
      ]
    },
    {
      "cell_type": "code",
      "metadata": {
        "id": "SXSVVI9JgPnU",
        "colab_type": "code",
        "colab": {
          "base_uri": "https://localhost:8080/",
          "height": 55
        },
        "outputId": "188b6c8c-612e-4707-e393-7f2c7c5498b9"
      },
      "source": [
        "print(score)"
      ],
      "execution_count": 3,
      "outputs": [
        {
          "output_type": "stream",
          "text": [
            "[[72, 96, 50, 76, 42, 80, 88, 49, 73, 90, 56, 61, 59, 42, 47, 71, 60, 83, 52, 80, 60, 40, 49, 84, 73, 79, 82, 42, 49, 98, 62, 52, 48, 87, 43, 75, 45, 99, 40, 87], [93, 78, 86, 43, 86, 47, 84, 68, 99, 41, 88, 88, 50, 72, 89, 79, 83, 89, 90, 53, 77, 43, 53, 82, 84, 83, 52, 100, 98, 64, 99, 94, 69, 76, 100, 87, 96, 50, 92, 51], [50, 52, 99, 41, 56, 74, 81, 62, 68, 81, 47, 96, 69, 40, 80, 80, 72, 65, 41, 47, 65, 98, 42, 55, 96, 53, 95, 54, 90, 73, 61, 65, 100, 59, 57, 50, 100, 57, 59, 75], [45, 42, 49, 82, 85, 93, 94, 76, 75, 91, 66, 45, 89, 74, 89, 61, 54, 69, 44, 62, 88, 95, 48, 41, 68, 92, 44, 59, 56, 82, 66, 53, 58, 47, 66, 53, 84, 68, 67, 57], [66, 67, 50, 84, 92, 56, 79, 47, 79, 51, 45, 59, 42, 90, 73, 42, 65, 59, 100, 79, 45, 42, 85, 95, 44, 88, 76, 84, 57, 45, 75, 93, 88, 82, 77, 52, 92, 64, 98, 95]]\n"
          ],
          "name": "stdout"
        }
      ]
    },
    {
      "cell_type": "code",
      "metadata": {
        "id": "qx5EZkqbgVBV",
        "colab_type": "code",
        "colab": {
          "base_uri": "https://localhost:8080/",
          "height": 35
        },
        "outputId": "e5e76202-a8d4-4699-e386-b97cfcbdb01d"
      },
      "source": [
        "len(score[0])"
      ],
      "execution_count": 5,
      "outputs": [
        {
          "output_type": "execute_result",
          "data": {
            "text/plain": [
              "40"
            ]
          },
          "metadata": {
            "tags": []
          },
          "execution_count": 5
        }
      ]
    },
    {
      "cell_type": "code",
      "metadata": {
        "id": "pSxyvdz_gZNM",
        "colab_type": "code",
        "colab": {
          "base_uri": "https://localhost:8080/",
          "height": 141
        },
        "outputId": "e02b8c72-70c1-4679-90a1-5a59f9165d3f"
      },
      "source": [
        "A = [[0]*8 for i in range(8)]\n",
        "for i in range(8):\n",
        "    A[i][0] = 1\n",
        "    A[i][i] = 1\n",
        "for i in range(2,8):\n",
        "    for j in range(1,i):\n",
        "        A[i][j] = A[i - 1][j - 1] + A[i - 1][j]\n",
        "for i in range(1, 8):\n",
        "    for j in range(i+1):\n",
        "        print(A[i][j], \" \", end='')\n",
        "    print()"
      ],
      "execution_count": 6,
      "outputs": [
        {
          "output_type": "stream",
          "text": [
            "1  1  \n",
            "1  2  1  \n",
            "1  3  3  1  \n",
            "1  4  6  4  1  \n",
            "1  5  10  10  5  1  \n",
            "1  6  15  20  15  6  1  \n",
            "1  7  21  35  35  21  7  1  \n"
          ],
          "name": "stdout"
        }
      ]
    },
    {
      "cell_type": "code",
      "metadata": {
        "id": "1c8tSWAogxT2",
        "colab_type": "code",
        "colab": {}
      },
      "source": [
        "%matplotlib inline\n",
        "import numpy as np\n",
        "import pandas as pd\n",
        "import matplotlib.pyplot as plt"
      ],
      "execution_count": 7,
      "outputs": []
    },
    {
      "cell_type": "code",
      "metadata": {
        "id": "T2CVkFSThnMG",
        "colab_type": "code",
        "colab": {}
      },
      "source": [
        "column,row = 10,10\n",
        "x = np.zeros((column, row))"
      ],
      "execution_count": 15,
      "outputs": []
    },
    {
      "cell_type": "code",
      "metadata": {
        "id": "ASKBMthRh2PE",
        "colab_type": "code",
        "colab": {
          "base_uri": "https://localhost:8080/",
          "height": 195
        },
        "outputId": "589bae86-40fc-4e8d-a737-4f904fd9a040"
      },
      "source": [
        "x"
      ],
      "execution_count": 16,
      "outputs": [
        {
          "output_type": "execute_result",
          "data": {
            "text/plain": [
              "array([[0., 0., 0., 0., 0., 0., 0., 0., 0., 0.],\n",
              "       [0., 0., 0., 0., 0., 0., 0., 0., 0., 0.],\n",
              "       [0., 0., 0., 0., 0., 0., 0., 0., 0., 0.],\n",
              "       [0., 0., 0., 0., 0., 0., 0., 0., 0., 0.],\n",
              "       [0., 0., 0., 0., 0., 0., 0., 0., 0., 0.],\n",
              "       [0., 0., 0., 0., 0., 0., 0., 0., 0., 0.],\n",
              "       [0., 0., 0., 0., 0., 0., 0., 0., 0., 0.],\n",
              "       [0., 0., 0., 0., 0., 0., 0., 0., 0., 0.],\n",
              "       [0., 0., 0., 0., 0., 0., 0., 0., 0., 0.],\n",
              "       [0., 0., 0., 0., 0., 0., 0., 0., 0., 0.]])"
            ]
          },
          "metadata": {
            "tags": []
          },
          "execution_count": 16
        }
      ]
    },
    {
      "cell_type": "code",
      "metadata": {
        "id": "c6aVILaYiMiz",
        "colab_type": "code",
        "colab": {
          "base_uri": "https://localhost:8080/",
          "height": 337
        },
        "outputId": "a093208c-122b-470e-daf4-290e09669bc0"
      },
      "source": [
        "import random as rd\n",
        "lis=list(range(1,10))\n",
        "for i in range(1, 10):  #外圈\n",
        "    for j in range(1, 10):  #內圈\n",
        "        num=rd.randint(0,9)  \n",
        "        print('%3d'%(num), end='')\n",
        "        lis.append(num)\n",
        "    print('\\n')"
      ],
      "execution_count": 13,
      "outputs": [
        {
          "output_type": "stream",
          "text": [
            "  6  5  8  5  8  5  3  4  4\n",
            "\n",
            "  7  4  7  9  0  1  2  4  3\n",
            "\n",
            "  8  5  0  8  5  4  4  8  9\n",
            "\n",
            "  9  6  3  6  1  1  3  4  7\n",
            "\n",
            "  9  2  7  1  2  3  7  9  6\n",
            "\n",
            "  1  9  0  1  7  1  3  3  0\n",
            "\n",
            "  7  7  7  0  4  5  8  9  8\n",
            "\n",
            "  4  2  9  2  3  6  4  7  4\n",
            "\n",
            "  7  4  0  1  5  1  7  2  1\n",
            "\n"
          ],
          "name": "stdout"
        }
      ]
    },
    {
      "cell_type": "code",
      "metadata": {
        "id": "LxoitPCNikM8",
        "colab_type": "code",
        "colab": {
          "base_uri": "https://localhost:8080/",
          "height": 195
        },
        "outputId": "249b85b6-0522-40f4-fdc9-80c6aee0fd1b"
      },
      "source": [
        "# keep data in array\n",
        "import random as rd\n",
        "lis=list(range(1,10))\n",
        "for i in range(0, 10):  #外圈\n",
        "    for j in range(0, 10):  #內圈\n",
        "        num=rd.randint(0,9)  \n",
        "        print('%3d'%(num), end='')\n",
        "        x[i][j] = num\n",
        "    print()"
      ],
      "execution_count": 17,
      "outputs": [
        {
          "output_type": "stream",
          "text": [
            "  7  8  0  8  6  7  1  7  3  6\n",
            "  0  4  8  3  3  0  3  8  0  7\n",
            "  9  8  9  3  7  9  0  4  5  0\n",
            "  0  7  1  8  4  3  4  1  5  0\n",
            "  5  3  9  9  4  5  5  6  3  8\n",
            "  3  2  4  2  0  2  2  0  4  8\n",
            "  0  1  6  2  4  1  6  7  3  6\n",
            "  2  3  7  8  8  8  5  5  1  1\n",
            "  7  9  5  5  2  6  7  7  9  0\n",
            "  8  0  9  6  7  3  8  9  3  5\n"
          ],
          "name": "stdout"
        }
      ]
    },
    {
      "cell_type": "code",
      "metadata": {
        "id": "-a7UPgbki42t",
        "colab_type": "code",
        "colab": {
          "base_uri": "https://localhost:8080/",
          "height": 195
        },
        "outputId": "f5e30709-72aa-437e-a8fc-94363bfc3485"
      },
      "source": [
        "x"
      ],
      "execution_count": 18,
      "outputs": [
        {
          "output_type": "execute_result",
          "data": {
            "text/plain": [
              "array([[7., 8., 0., 8., 6., 7., 1., 7., 3., 6.],\n",
              "       [0., 4., 8., 3., 3., 0., 3., 8., 0., 7.],\n",
              "       [9., 8., 9., 3., 7., 9., 0., 4., 5., 0.],\n",
              "       [0., 7., 1., 8., 4., 3., 4., 1., 5., 0.],\n",
              "       [5., 3., 9., 9., 4., 5., 5., 6., 3., 8.],\n",
              "       [3., 2., 4., 2., 0., 2., 2., 0., 4., 8.],\n",
              "       [0., 1., 6., 2., 4., 1., 6., 7., 3., 6.],\n",
              "       [2., 3., 7., 8., 8., 8., 5., 5., 1., 1.],\n",
              "       [7., 9., 5., 5., 2., 6., 7., 7., 9., 0.],\n",
              "       [8., 0., 9., 6., 7., 3., 8., 9., 3., 5.]])"
            ]
          },
          "metadata": {
            "tags": []
          },
          "execution_count": 18
        }
      ]
    },
    {
      "cell_type": "code",
      "metadata": {
        "id": "L0vWtxEYjLvF",
        "colab_type": "code",
        "colab": {}
      },
      "source": [
        ""
      ],
      "execution_count": null,
      "outputs": []
    }
  ]
}